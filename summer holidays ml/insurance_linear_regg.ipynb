{
 "cells": [
  {
   "cell_type": "code",
   "execution_count": 1,
   "id": "de8c8e67-a181-466f-aeca-6794cc63dce7",
   "metadata": {},
   "outputs": [],
   "source": [
    "import numpy as np\n",
    "import pandas as pd\n",
    "import matplotlib.pyplot as plt\n",
    "import seaborn as sns"
   ]
  },
  {
   "cell_type": "code",
   "execution_count": 2,
   "id": "0dd4e382-78b3-4bfc-a30f-50f29c7848bf",
   "metadata": {},
   "outputs": [],
   "source": [
    "from sklearn.preprocessing import OneHotEncoder\n",
    "from sklearn.preprocessing import OrdinalEncoder"
   ]
  },
  {
   "cell_type": "code",
   "execution_count": null,
   "id": "56d850c5-66eb-4ba1-9fe2-12808be5b892",
   "metadata": {},
   "outputs": [],
   "source": []
  },
  {
   "cell_type": "code",
   "execution_count": 3,
   "id": "ffa47e09-6f88-4620-89ad-7e7375c05bb3",
   "metadata": {},
   "outputs": [],
   "source": [
    "df = pd.read_csv('insurance.csv')"
   ]
  },
  {
   "cell_type": "code",
   "execution_count": 4,
   "id": "ba524d00-18b5-47c5-ae03-db13ba73430d",
   "metadata": {},
   "outputs": [
    {
     "data": {
      "text/plain": [
       "age         0\n",
       "sex         0\n",
       "bmi         0\n",
       "children    0\n",
       "smoker      0\n",
       "region      0\n",
       "charges     0\n",
       "dtype: int64"
      ]
     },
     "execution_count": 4,
     "metadata": {},
     "output_type": "execute_result"
    }
   ],
   "source": [
    "df.isnull().sum()"
   ]
  },
  {
   "cell_type": "code",
   "execution_count": 5,
   "id": "5e705b17-dcbe-45e6-811b-77941bbc6ce5",
   "metadata": {},
   "outputs": [],
   "source": [
    "from sklearn.model_selection import train_test_split\n",
    "x_train,x_test,y_train,y_test = train_test_split(df.drop('smoker',axis=1),\n",
    "                                                 df['smoker'],test_size=0.2,\n",
    "                                                 random_state=0)"
   ]
  },
  {
   "cell_type": "code",
   "execution_count": 6,
   "id": "ff8807b9-ac40-4ed1-b6b1-016eeabd743d",
   "metadata": {},
   "outputs": [
    {
     "data": {
      "text/plain": [
       "((1070, 6), (268, 6))"
      ]
     },
     "execution_count": 6,
     "metadata": {},
     "output_type": "execute_result"
    }
   ],
   "source": [
    "x_train.shape,x_test.shape"
   ]
  },
  {
   "cell_type": "code",
   "execution_count": 7,
   "id": "62105a27-f411-486a-890d-514d7659b4c8",
   "metadata": {},
   "outputs": [
    {
     "data": {
      "text/plain": [
       "((1070,), (268,))"
      ]
     },
     "execution_count": 7,
     "metadata": {},
     "output_type": "execute_result"
    }
   ],
   "source": [
    "y_train.shape,y_test.shape"
   ]
  },
  {
   "cell_type": "code",
   "execution_count": 8,
   "id": "1eb5cbf9-c22d-4f58-8587-c800b993a720",
   "metadata": {},
   "outputs": [],
   "source": [
    "from sklearn.preprocessing import StandardScaler"
   ]
  },
  {
   "cell_type": "code",
   "execution_count": 9,
   "id": "4358096d-6f04-4caa-8da8-9588f5ab9d20",
   "metadata": {},
   "outputs": [
    {
     "data": {
      "text/plain": [
       "region\n",
       "southeast    364\n",
       "southwest    325\n",
       "northwest    325\n",
       "northeast    324\n",
       "Name: count, dtype: int64"
      ]
     },
     "execution_count": 9,
     "metadata": {},
     "output_type": "execute_result"
    }
   ],
   "source": [
    "df['region'].value_counts()"
   ]
  },
  {
   "cell_type": "code",
   "execution_count": 10,
   "id": "fbced0e1-4d04-4239-9bf7-e12253a0cd6a",
   "metadata": {},
   "outputs": [
    {
     "data": {
      "text/plain": [
       "children\n",
       "0    574\n",
       "1    324\n",
       "2    240\n",
       "3    157\n",
       "4     25\n",
       "5     18\n",
       "Name: count, dtype: int64"
      ]
     },
     "execution_count": 10,
     "metadata": {},
     "output_type": "execute_result"
    }
   ],
   "source": [
    "df['children'].value_counts()"
   ]
  },
  {
   "cell_type": "code",
   "execution_count": 11,
   "id": "4b5dea56-b227-4f16-bba1-6f713cc01d17",
   "metadata": {},
   "outputs": [],
   "source": [
    "from sklearn.compose import ColumnTransformer"
   ]
  },
  {
   "cell_type": "code",
   "execution_count": 12,
   "id": "5d270fe2-63f9-4c65-b13e-274915b3da3f",
   "metadata": {},
   "outputs": [],
   "source": [
    "#transformer1 = ColumnTransformer(transformers=[OrdinalEncoder(categories=[['no','yes']]),['smoker']])\n",
    "\n",
    "transformer2 = ColumnTransformer(transformers=[('tnf2',OneHotEncoder(sparse_output=False,drop='first' )\n",
    "                                                ,['sex','region'])]\n",
    "                                ,remainder='passthrough')"
   ]
  },
  {
   "cell_type": "code",
   "execution_count": 13,
   "id": "0dbb52cb-d981-498c-a936-ff9addc1ce86",
   "metadata": {},
   "outputs": [],
   "source": [
    "x_train_transformed = transformer2.fit_transform(x_train)\n",
    "x_test_transformed = transformer2.fit_transform(x_test)\n",
    "#y_train_transformed = transformer1.fit_transform(y_train)\n",
    "#y_test_transformed = transformer1.fit_transform(y_test)"
   ]
  },
  {
   "cell_type": "code",
   "execution_count": 14,
   "id": "57212039-ad3c-4e4d-9b06-b4609e030edf",
   "metadata": {},
   "outputs": [],
   "source": [
    "from sklearn.preprocessing import LabelEncoder\n",
    "label_encoder = LabelEncoder()\n",
    "y_train_transformed = label_encoder.fit_transform(y_train)\n",
    "y_test_transformed = label_encoder.fit_transform(y_test)"
   ]
  },
  {
   "cell_type": "code",
   "execution_count": 15,
   "id": "823bfd0b-6f07-4ed7-83ff-4838ddd6e4be",
   "metadata": {},
   "outputs": [
    {
     "data": {
      "text/plain": [
       "array([[1.00000000e+00, 0.00000000e+00, 0.00000000e+00, ...,\n",
       "        3.41000000e+01, 4.00000000e+00, 4.01822460e+04],\n",
       "       [1.00000000e+00, 0.00000000e+00, 1.00000000e+00, ...,\n",
       "        3.44300000e+01, 0.00000000e+00, 1.13746970e+03],\n",
       "       [0.00000000e+00, 0.00000000e+00, 0.00000000e+00, ...,\n",
       "        3.66700000e+01, 2.00000000e+00, 3.85116283e+04],\n",
       "       ...,\n",
       "       [1.00000000e+00, 0.00000000e+00, 1.00000000e+00, ...,\n",
       "        2.50800000e+01, 0.00000000e+00, 5.41566120e+03],\n",
       "       [1.00000000e+00, 1.00000000e+00, 0.00000000e+00, ...,\n",
       "        3.55300000e+01, 0.00000000e+00, 1.64642970e+03],\n",
       "       [0.00000000e+00, 0.00000000e+00, 0.00000000e+00, ...,\n",
       "        1.85000000e+01, 1.00000000e+00, 4.76602200e+03]])"
      ]
     },
     "execution_count": 15,
     "metadata": {},
     "output_type": "execute_result"
    }
   ],
   "source": [
    "x_train_transformed"
   ]
  },
  {
   "cell_type": "code",
   "execution_count": 16,
   "id": "aa7e9275-91a9-4d85-a302-b58efda368ae",
   "metadata": {},
   "outputs": [
    {
     "data": {
      "text/plain": [
       "array([1, 0, 1, ..., 0, 0, 0])"
      ]
     },
     "execution_count": 16,
     "metadata": {},
     "output_type": "execute_result"
    }
   ],
   "source": [
    "y_train_transformed"
   ]
  },
  {
   "cell_type": "code",
   "execution_count": null,
   "id": "a2a63c24-8fe4-418b-bea9-d61b0467360c",
   "metadata": {},
   "outputs": [],
   "source": []
  },
  {
   "cell_type": "code",
   "execution_count": 17,
   "id": "2c4421b8-9dde-4cd3-84a6-86d5d1168001",
   "metadata": {},
   "outputs": [],
   "source": [
    "from sklearn.preprocessing import StandardScaler\n",
    "\n",
    "scaler = StandardScaler()\n",
    "scaler.fit(x_train_transformed)\n",
    "x_train_scaled = scaler.transform(x_train_transformed)\n",
    "x_test_scaled = scaler.transform(x_test_transformed)"
   ]
  },
  {
   "cell_type": "code",
   "execution_count": 18,
   "id": "b6565558-d353-41f1-8880-ac1db569656f",
   "metadata": {},
   "outputs": [
    {
     "data": {
      "text/plain": [
       "array([[ 1.01506676, -0.55791981, -0.6155209 , ...,  0.54530479,\n",
       "         2.41394802,  2.25338687],\n",
       "       [ 1.01506676, -0.55791981,  1.6246402 , ...,  0.59867181,\n",
       "        -0.89219519, -1.00752925],\n",
       "       [-0.98515688, -0.55791981, -0.6155209 , ...,  0.96092064,\n",
       "         0.76087642,  2.11386131],\n",
       "       ...,\n",
       "       [ 1.01506676, -0.55791981,  1.6246402 , ..., -0.91339361,\n",
       "        -0.89219519, -0.65022604],\n",
       "       [ 1.01506676,  1.79237229, -0.6155209 , ...,  0.77656186,\n",
       "        -0.89219519, -0.96502226],\n",
       "       [-0.98515688, -0.55791981, -0.6155209 , ..., -1.97749955,\n",
       "        -0.06565939, -0.70448219]])"
      ]
     },
     "execution_count": 18,
     "metadata": {},
     "output_type": "execute_result"
    }
   ],
   "source": [
    "x_train_scaled"
   ]
  },
  {
   "cell_type": "code",
   "execution_count": 19,
   "id": "7feae3cd-a712-469f-a88f-aa2deb454b71",
   "metadata": {},
   "outputs": [],
   "source": [
    "from sklearn.linear_model import LinearRegression\n"
   ]
  },
  {
   "cell_type": "code",
   "execution_count": 20,
   "id": "7ef01bc3-bf4d-48ef-9f5d-d240ecdcc09b",
   "metadata": {},
   "outputs": [],
   "source": [
    "lr = LinearRegression()\n"
   ]
  },
  {
   "cell_type": "code",
   "execution_count": 21,
   "id": "b1a00d98-cb90-4c20-8187-0942e3a7dddf",
   "metadata": {},
   "outputs": [
    {
     "data": {
      "text/html": [
       "<style>#sk-container-id-1 {\n",
       "  /* Definition of color scheme common for light and dark mode */\n",
       "  --sklearn-color-text: black;\n",
       "  --sklearn-color-line: gray;\n",
       "  /* Definition of color scheme for unfitted estimators */\n",
       "  --sklearn-color-unfitted-level-0: #fff5e6;\n",
       "  --sklearn-color-unfitted-level-1: #f6e4d2;\n",
       "  --sklearn-color-unfitted-level-2: #ffe0b3;\n",
       "  --sklearn-color-unfitted-level-3: chocolate;\n",
       "  /* Definition of color scheme for fitted estimators */\n",
       "  --sklearn-color-fitted-level-0: #f0f8ff;\n",
       "  --sklearn-color-fitted-level-1: #d4ebff;\n",
       "  --sklearn-color-fitted-level-2: #b3dbfd;\n",
       "  --sklearn-color-fitted-level-3: cornflowerblue;\n",
       "\n",
       "  /* Specific color for light theme */\n",
       "  --sklearn-color-text-on-default-background: var(--sg-text-color, var(--theme-code-foreground, var(--jp-content-font-color1, black)));\n",
       "  --sklearn-color-background: var(--sg-background-color, var(--theme-background, var(--jp-layout-color0, white)));\n",
       "  --sklearn-color-border-box: var(--sg-text-color, var(--theme-code-foreground, var(--jp-content-font-color1, black)));\n",
       "  --sklearn-color-icon: #696969;\n",
       "\n",
       "  @media (prefers-color-scheme: dark) {\n",
       "    /* Redefinition of color scheme for dark theme */\n",
       "    --sklearn-color-text-on-default-background: var(--sg-text-color, var(--theme-code-foreground, var(--jp-content-font-color1, white)));\n",
       "    --sklearn-color-background: var(--sg-background-color, var(--theme-background, var(--jp-layout-color0, #111)));\n",
       "    --sklearn-color-border-box: var(--sg-text-color, var(--theme-code-foreground, var(--jp-content-font-color1, white)));\n",
       "    --sklearn-color-icon: #878787;\n",
       "  }\n",
       "}\n",
       "\n",
       "#sk-container-id-1 {\n",
       "  color: var(--sklearn-color-text);\n",
       "}\n",
       "\n",
       "#sk-container-id-1 pre {\n",
       "  padding: 0;\n",
       "}\n",
       "\n",
       "#sk-container-id-1 input.sk-hidden--visually {\n",
       "  border: 0;\n",
       "  clip: rect(1px 1px 1px 1px);\n",
       "  clip: rect(1px, 1px, 1px, 1px);\n",
       "  height: 1px;\n",
       "  margin: -1px;\n",
       "  overflow: hidden;\n",
       "  padding: 0;\n",
       "  position: absolute;\n",
       "  width: 1px;\n",
       "}\n",
       "\n",
       "#sk-container-id-1 div.sk-dashed-wrapped {\n",
       "  border: 1px dashed var(--sklearn-color-line);\n",
       "  margin: 0 0.4em 0.5em 0.4em;\n",
       "  box-sizing: border-box;\n",
       "  padding-bottom: 0.4em;\n",
       "  background-color: var(--sklearn-color-background);\n",
       "}\n",
       "\n",
       "#sk-container-id-1 div.sk-container {\n",
       "  /* jupyter's `normalize.less` sets `[hidden] { display: none; }`\n",
       "     but bootstrap.min.css set `[hidden] { display: none !important; }`\n",
       "     so we also need the `!important` here to be able to override the\n",
       "     default hidden behavior on the sphinx rendered scikit-learn.org.\n",
       "     See: https://github.com/scikit-learn/scikit-learn/issues/21755 */\n",
       "  display: inline-block !important;\n",
       "  position: relative;\n",
       "}\n",
       "\n",
       "#sk-container-id-1 div.sk-text-repr-fallback {\n",
       "  display: none;\n",
       "}\n",
       "\n",
       "div.sk-parallel-item,\n",
       "div.sk-serial,\n",
       "div.sk-item {\n",
       "  /* draw centered vertical line to link estimators */\n",
       "  background-image: linear-gradient(var(--sklearn-color-text-on-default-background), var(--sklearn-color-text-on-default-background));\n",
       "  background-size: 2px 100%;\n",
       "  background-repeat: no-repeat;\n",
       "  background-position: center center;\n",
       "}\n",
       "\n",
       "/* Parallel-specific style estimator block */\n",
       "\n",
       "#sk-container-id-1 div.sk-parallel-item::after {\n",
       "  content: \"\";\n",
       "  width: 100%;\n",
       "  border-bottom: 2px solid var(--sklearn-color-text-on-default-background);\n",
       "  flex-grow: 1;\n",
       "}\n",
       "\n",
       "#sk-container-id-1 div.sk-parallel {\n",
       "  display: flex;\n",
       "  align-items: stretch;\n",
       "  justify-content: center;\n",
       "  background-color: var(--sklearn-color-background);\n",
       "  position: relative;\n",
       "}\n",
       "\n",
       "#sk-container-id-1 div.sk-parallel-item {\n",
       "  display: flex;\n",
       "  flex-direction: column;\n",
       "}\n",
       "\n",
       "#sk-container-id-1 div.sk-parallel-item:first-child::after {\n",
       "  align-self: flex-end;\n",
       "  width: 50%;\n",
       "}\n",
       "\n",
       "#sk-container-id-1 div.sk-parallel-item:last-child::after {\n",
       "  align-self: flex-start;\n",
       "  width: 50%;\n",
       "}\n",
       "\n",
       "#sk-container-id-1 div.sk-parallel-item:only-child::after {\n",
       "  width: 0;\n",
       "}\n",
       "\n",
       "/* Serial-specific style estimator block */\n",
       "\n",
       "#sk-container-id-1 div.sk-serial {\n",
       "  display: flex;\n",
       "  flex-direction: column;\n",
       "  align-items: center;\n",
       "  background-color: var(--sklearn-color-background);\n",
       "  padding-right: 1em;\n",
       "  padding-left: 1em;\n",
       "}\n",
       "\n",
       "\n",
       "/* Toggleable style: style used for estimator/Pipeline/ColumnTransformer box that is\n",
       "clickable and can be expanded/collapsed.\n",
       "- Pipeline and ColumnTransformer use this feature and define the default style\n",
       "- Estimators will overwrite some part of the style using the `sk-estimator` class\n",
       "*/\n",
       "\n",
       "/* Pipeline and ColumnTransformer style (default) */\n",
       "\n",
       "#sk-container-id-1 div.sk-toggleable {\n",
       "  /* Default theme specific background. It is overwritten whether we have a\n",
       "  specific estimator or a Pipeline/ColumnTransformer */\n",
       "  background-color: var(--sklearn-color-background);\n",
       "}\n",
       "\n",
       "/* Toggleable label */\n",
       "#sk-container-id-1 label.sk-toggleable__label {\n",
       "  cursor: pointer;\n",
       "  display: block;\n",
       "  width: 100%;\n",
       "  margin-bottom: 0;\n",
       "  padding: 0.5em;\n",
       "  box-sizing: border-box;\n",
       "  text-align: center;\n",
       "}\n",
       "\n",
       "#sk-container-id-1 label.sk-toggleable__label-arrow:before {\n",
       "  /* Arrow on the left of the label */\n",
       "  content: \"▸\";\n",
       "  float: left;\n",
       "  margin-right: 0.25em;\n",
       "  color: var(--sklearn-color-icon);\n",
       "}\n",
       "\n",
       "#sk-container-id-1 label.sk-toggleable__label-arrow:hover:before {\n",
       "  color: var(--sklearn-color-text);\n",
       "}\n",
       "\n",
       "/* Toggleable content - dropdown */\n",
       "\n",
       "#sk-container-id-1 div.sk-toggleable__content {\n",
       "  max-height: 0;\n",
       "  max-width: 0;\n",
       "  overflow: hidden;\n",
       "  text-align: left;\n",
       "  /* unfitted */\n",
       "  background-color: var(--sklearn-color-unfitted-level-0);\n",
       "}\n",
       "\n",
       "#sk-container-id-1 div.sk-toggleable__content.fitted {\n",
       "  /* fitted */\n",
       "  background-color: var(--sklearn-color-fitted-level-0);\n",
       "}\n",
       "\n",
       "#sk-container-id-1 div.sk-toggleable__content pre {\n",
       "  margin: 0.2em;\n",
       "  border-radius: 0.25em;\n",
       "  color: var(--sklearn-color-text);\n",
       "  /* unfitted */\n",
       "  background-color: var(--sklearn-color-unfitted-level-0);\n",
       "}\n",
       "\n",
       "#sk-container-id-1 div.sk-toggleable__content.fitted pre {\n",
       "  /* unfitted */\n",
       "  background-color: var(--sklearn-color-fitted-level-0);\n",
       "}\n",
       "\n",
       "#sk-container-id-1 input.sk-toggleable__control:checked~div.sk-toggleable__content {\n",
       "  /* Expand drop-down */\n",
       "  max-height: 200px;\n",
       "  max-width: 100%;\n",
       "  overflow: auto;\n",
       "}\n",
       "\n",
       "#sk-container-id-1 input.sk-toggleable__control:checked~label.sk-toggleable__label-arrow:before {\n",
       "  content: \"▾\";\n",
       "}\n",
       "\n",
       "/* Pipeline/ColumnTransformer-specific style */\n",
       "\n",
       "#sk-container-id-1 div.sk-label input.sk-toggleable__control:checked~label.sk-toggleable__label {\n",
       "  color: var(--sklearn-color-text);\n",
       "  background-color: var(--sklearn-color-unfitted-level-2);\n",
       "}\n",
       "\n",
       "#sk-container-id-1 div.sk-label.fitted input.sk-toggleable__control:checked~label.sk-toggleable__label {\n",
       "  background-color: var(--sklearn-color-fitted-level-2);\n",
       "}\n",
       "\n",
       "/* Estimator-specific style */\n",
       "\n",
       "/* Colorize estimator box */\n",
       "#sk-container-id-1 div.sk-estimator input.sk-toggleable__control:checked~label.sk-toggleable__label {\n",
       "  /* unfitted */\n",
       "  background-color: var(--sklearn-color-unfitted-level-2);\n",
       "}\n",
       "\n",
       "#sk-container-id-1 div.sk-estimator.fitted input.sk-toggleable__control:checked~label.sk-toggleable__label {\n",
       "  /* fitted */\n",
       "  background-color: var(--sklearn-color-fitted-level-2);\n",
       "}\n",
       "\n",
       "#sk-container-id-1 div.sk-label label.sk-toggleable__label,\n",
       "#sk-container-id-1 div.sk-label label {\n",
       "  /* The background is the default theme color */\n",
       "  color: var(--sklearn-color-text-on-default-background);\n",
       "}\n",
       "\n",
       "/* On hover, darken the color of the background */\n",
       "#sk-container-id-1 div.sk-label:hover label.sk-toggleable__label {\n",
       "  color: var(--sklearn-color-text);\n",
       "  background-color: var(--sklearn-color-unfitted-level-2);\n",
       "}\n",
       "\n",
       "/* Label box, darken color on hover, fitted */\n",
       "#sk-container-id-1 div.sk-label.fitted:hover label.sk-toggleable__label.fitted {\n",
       "  color: var(--sklearn-color-text);\n",
       "  background-color: var(--sklearn-color-fitted-level-2);\n",
       "}\n",
       "\n",
       "/* Estimator label */\n",
       "\n",
       "#sk-container-id-1 div.sk-label label {\n",
       "  font-family: monospace;\n",
       "  font-weight: bold;\n",
       "  display: inline-block;\n",
       "  line-height: 1.2em;\n",
       "}\n",
       "\n",
       "#sk-container-id-1 div.sk-label-container {\n",
       "  text-align: center;\n",
       "}\n",
       "\n",
       "/* Estimator-specific */\n",
       "#sk-container-id-1 div.sk-estimator {\n",
       "  font-family: monospace;\n",
       "  border: 1px dotted var(--sklearn-color-border-box);\n",
       "  border-radius: 0.25em;\n",
       "  box-sizing: border-box;\n",
       "  margin-bottom: 0.5em;\n",
       "  /* unfitted */\n",
       "  background-color: var(--sklearn-color-unfitted-level-0);\n",
       "}\n",
       "\n",
       "#sk-container-id-1 div.sk-estimator.fitted {\n",
       "  /* fitted */\n",
       "  background-color: var(--sklearn-color-fitted-level-0);\n",
       "}\n",
       "\n",
       "/* on hover */\n",
       "#sk-container-id-1 div.sk-estimator:hover {\n",
       "  /* unfitted */\n",
       "  background-color: var(--sklearn-color-unfitted-level-2);\n",
       "}\n",
       "\n",
       "#sk-container-id-1 div.sk-estimator.fitted:hover {\n",
       "  /* fitted */\n",
       "  background-color: var(--sklearn-color-fitted-level-2);\n",
       "}\n",
       "\n",
       "/* Specification for estimator info (e.g. \"i\" and \"?\") */\n",
       "\n",
       "/* Common style for \"i\" and \"?\" */\n",
       "\n",
       ".sk-estimator-doc-link,\n",
       "a:link.sk-estimator-doc-link,\n",
       "a:visited.sk-estimator-doc-link {\n",
       "  float: right;\n",
       "  font-size: smaller;\n",
       "  line-height: 1em;\n",
       "  font-family: monospace;\n",
       "  background-color: var(--sklearn-color-background);\n",
       "  border-radius: 1em;\n",
       "  height: 1em;\n",
       "  width: 1em;\n",
       "  text-decoration: none !important;\n",
       "  margin-left: 1ex;\n",
       "  /* unfitted */\n",
       "  border: var(--sklearn-color-unfitted-level-1) 1pt solid;\n",
       "  color: var(--sklearn-color-unfitted-level-1);\n",
       "}\n",
       "\n",
       ".sk-estimator-doc-link.fitted,\n",
       "a:link.sk-estimator-doc-link.fitted,\n",
       "a:visited.sk-estimator-doc-link.fitted {\n",
       "  /* fitted */\n",
       "  border: var(--sklearn-color-fitted-level-1) 1pt solid;\n",
       "  color: var(--sklearn-color-fitted-level-1);\n",
       "}\n",
       "\n",
       "/* On hover */\n",
       "div.sk-estimator:hover .sk-estimator-doc-link:hover,\n",
       ".sk-estimator-doc-link:hover,\n",
       "div.sk-label-container:hover .sk-estimator-doc-link:hover,\n",
       ".sk-estimator-doc-link:hover {\n",
       "  /* unfitted */\n",
       "  background-color: var(--sklearn-color-unfitted-level-3);\n",
       "  color: var(--sklearn-color-background);\n",
       "  text-decoration: none;\n",
       "}\n",
       "\n",
       "div.sk-estimator.fitted:hover .sk-estimator-doc-link.fitted:hover,\n",
       ".sk-estimator-doc-link.fitted:hover,\n",
       "div.sk-label-container:hover .sk-estimator-doc-link.fitted:hover,\n",
       ".sk-estimator-doc-link.fitted:hover {\n",
       "  /* fitted */\n",
       "  background-color: var(--sklearn-color-fitted-level-3);\n",
       "  color: var(--sklearn-color-background);\n",
       "  text-decoration: none;\n",
       "}\n",
       "\n",
       "/* Span, style for the box shown on hovering the info icon */\n",
       ".sk-estimator-doc-link span {\n",
       "  display: none;\n",
       "  z-index: 9999;\n",
       "  position: relative;\n",
       "  font-weight: normal;\n",
       "  right: .2ex;\n",
       "  padding: .5ex;\n",
       "  margin: .5ex;\n",
       "  width: min-content;\n",
       "  min-width: 20ex;\n",
       "  max-width: 50ex;\n",
       "  color: var(--sklearn-color-text);\n",
       "  box-shadow: 2pt 2pt 4pt #999;\n",
       "  /* unfitted */\n",
       "  background: var(--sklearn-color-unfitted-level-0);\n",
       "  border: .5pt solid var(--sklearn-color-unfitted-level-3);\n",
       "}\n",
       "\n",
       ".sk-estimator-doc-link.fitted span {\n",
       "  /* fitted */\n",
       "  background: var(--sklearn-color-fitted-level-0);\n",
       "  border: var(--sklearn-color-fitted-level-3);\n",
       "}\n",
       "\n",
       ".sk-estimator-doc-link:hover span {\n",
       "  display: block;\n",
       "}\n",
       "\n",
       "/* \"?\"-specific style due to the `<a>` HTML tag */\n",
       "\n",
       "#sk-container-id-1 a.estimator_doc_link {\n",
       "  float: right;\n",
       "  font-size: 1rem;\n",
       "  line-height: 1em;\n",
       "  font-family: monospace;\n",
       "  background-color: var(--sklearn-color-background);\n",
       "  border-radius: 1rem;\n",
       "  height: 1rem;\n",
       "  width: 1rem;\n",
       "  text-decoration: none;\n",
       "  /* unfitted */\n",
       "  color: var(--sklearn-color-unfitted-level-1);\n",
       "  border: var(--sklearn-color-unfitted-level-1) 1pt solid;\n",
       "}\n",
       "\n",
       "#sk-container-id-1 a.estimator_doc_link.fitted {\n",
       "  /* fitted */\n",
       "  border: var(--sklearn-color-fitted-level-1) 1pt solid;\n",
       "  color: var(--sklearn-color-fitted-level-1);\n",
       "}\n",
       "\n",
       "/* On hover */\n",
       "#sk-container-id-1 a.estimator_doc_link:hover {\n",
       "  /* unfitted */\n",
       "  background-color: var(--sklearn-color-unfitted-level-3);\n",
       "  color: var(--sklearn-color-background);\n",
       "  text-decoration: none;\n",
       "}\n",
       "\n",
       "#sk-container-id-1 a.estimator_doc_link.fitted:hover {\n",
       "  /* fitted */\n",
       "  background-color: var(--sklearn-color-fitted-level-3);\n",
       "}\n",
       "</style><div id=\"sk-container-id-1\" class=\"sk-top-container\"><div class=\"sk-text-repr-fallback\"><pre>LinearRegression()</pre><b>In a Jupyter environment, please rerun this cell to show the HTML representation or trust the notebook. <br />On GitHub, the HTML representation is unable to render, please try loading this page with nbviewer.org.</b></div><div class=\"sk-container\" hidden><div class=\"sk-item\"><div class=\"sk-estimator fitted sk-toggleable\"><input class=\"sk-toggleable__control sk-hidden--visually\" id=\"sk-estimator-id-1\" type=\"checkbox\" checked><label for=\"sk-estimator-id-1\" class=\"sk-toggleable__label fitted sk-toggleable__label-arrow fitted\">&nbsp;&nbsp;LinearRegression<a class=\"sk-estimator-doc-link fitted\" rel=\"noreferrer\" target=\"_blank\" href=\"https://scikit-learn.org/1.4/modules/generated/sklearn.linear_model.LinearRegression.html\">?<span>Documentation for LinearRegression</span></a><span class=\"sk-estimator-doc-link fitted\">i<span>Fitted</span></span></label><div class=\"sk-toggleable__content fitted\"><pre>LinearRegression()</pre></div> </div></div></div></div>"
      ],
      "text/plain": [
       "LinearRegression()"
      ]
     },
     "execution_count": 21,
     "metadata": {},
     "output_type": "execute_result"
    }
   ],
   "source": [
    "lr.fit(x_train_scaled,y_train_transformed)"
   ]
  },
  {
   "cell_type": "code",
   "execution_count": 25,
   "id": "37a6fa2b-ab28-4780-aaf8-37d26aae2b43",
   "metadata": {},
   "outputs": [
    {
     "data": {
      "text/plain": [
       "array([ 4.75104326e-03,  4.03581092e-02,  9.80631120e-01, -5.59631797e-02,\n",
       "        1.31432016e-01,  8.96632112e-02,  8.37575650e-02, -4.11051523e-02,\n",
       "        1.25544791e-02,  8.11035750e-03,  1.41102659e-01,  5.75639433e-02,\n",
       "       -3.27367231e-03,  8.59982138e-02,  4.80766774e-01,  7.41044801e-02,\n",
       "        9.01023632e-02, -5.63563024e-03,  1.22114466e-02,  9.64808934e-01,\n",
       "        4.78217735e-01, -7.73051324e-03,  3.85027094e-01,  4.99235432e-01,\n",
       "        9.27649030e-03, -7.03555456e-02,  1.46565364e-01,  1.19177356e-02,\n",
       "        7.38356747e-02,  1.43893073e-03,  2.84844642e-02,  1.03482446e+00,\n",
       "       -4.54351871e-02,  2.39416641e-01,  4.66792116e-01,  2.85673327e-02,\n",
       "       -4.99323232e-02,  1.36527552e+00,  9.46282590e-01, -9.24867821e-03,\n",
       "        1.06697087e-01,  5.15407488e-02,  4.62106725e-01,  9.93108298e-01,\n",
       "        1.02353414e+00,  6.82054615e-01,  3.47215923e-01,  3.60723383e-02,\n",
       "        1.00297909e-01,  4.25037651e-01, -2.69058798e-02,  5.25224021e-01,\n",
       "        4.72744255e-01,  9.89063509e-01,  2.95156734e-01, -5.00063304e-02,\n",
       "       -2.09975007e-02,  3.72551870e-02,  2.63059853e-01,  9.78881216e-02,\n",
       "        4.12544654e-02,  9.93477042e-01,  4.90277828e-02, -1.44000704e-02,\n",
       "       -2.80013640e-02, -9.42548434e-02,  9.90909833e-01,  9.65346498e-01,\n",
       "        1.58145634e-01,  1.02180437e-02,  5.12120664e-02,  7.74339031e-02,\n",
       "        4.94635934e-01,  1.48226682e-03,  9.58545999e-02,  6.40532588e-02,\n",
       "        7.02750580e-02,  2.78902818e-02,  4.69987244e-01,  9.90340505e-01,\n",
       "        3.62463691e-02,  1.01341286e+00, -2.46985849e-03, -7.49194768e-03,\n",
       "        9.51074186e-01,  5.00372491e-01, -1.18859116e-01, -3.94998404e-03,\n",
       "        5.56618649e-02,  9.43087889e-01, -5.00467893e-02,  8.42382410e-03,\n",
       "        3.34215954e-01,  6.21016040e-02, -5.24363848e-02, -5.73347637e-03,\n",
       "        9.48862469e-01,  9.31054741e-01, -1.52381037e-02, -9.95397158e-02,\n",
       "        1.87424459e-02, -4.31825274e-02,  1.80169460e-02,  9.65340334e-01,\n",
       "        7.65312085e-01,  9.86117445e-02,  9.49123629e-02, -4.59476575e-02,\n",
       "       -2.45155664e-02,  1.20017564e+00,  1.25901422e-01, -1.08885155e-01,\n",
       "        1.76598491e-02,  9.77197475e-01,  1.03136652e+00,  5.16416431e-02,\n",
       "        1.16561071e-01,  3.09282396e-02, -4.69062645e-02,  6.11222857e-02,\n",
       "        9.94299998e-01,  1.30737281e-01, -5.79913998e-02, -5.22823489e-02,\n",
       "        2.31152624e-02,  1.22659031e-01,  4.76665506e-01,  4.60939908e-01,\n",
       "        9.92393524e-01, -4.95573926e-02,  3.99996056e-02,  3.29140508e-02,\n",
       "        2.13366437e-02,  8.77884552e-02,  4.66447091e-01,  9.19365202e-01,\n",
       "        4.79392397e-01,  1.15679634e-01,  5.00078846e-01,  5.26038532e-02,\n",
       "        9.79244355e-03,  3.68136035e-02, -3.82350260e-02, -1.51942029e-02,\n",
       "        5.00805358e-02,  1.56396331e-02,  4.56226620e-01,  4.22564173e-01,\n",
       "        1.19753050e-01,  5.02908693e-01,  3.42014250e-02,  1.01019255e+00,\n",
       "       -9.98548630e-03,  7.28728846e-02, -6.05734041e-02,  3.04287535e-02,\n",
       "        1.34358768e-02,  7.99244435e-02,  4.50497594e-02, -2.21120606e-02,\n",
       "        6.26066415e-03, -3.86871218e-02,  5.50603823e-01, -9.90989247e-02,\n",
       "        1.04220430e-01,  3.75161862e-01,  4.79639750e-01,  2.26611376e-02,\n",
       "        4.29522659e-02, -3.68037522e-02, -1.33686290e-02,  5.58999295e-02,\n",
       "        4.21957824e-04, -1.97768317e-02,  2.06235105e-02,  3.18103344e-02,\n",
       "        1.03604794e-01,  8.33402691e-02,  5.35741333e-01,  8.30803140e-02,\n",
       "        3.19420447e-03,  3.19786732e-03, -2.46869167e-02, -4.85356896e-03,\n",
       "        7.40563837e-01,  5.12660745e-01,  7.34368208e-03,  6.83951823e-02,\n",
       "        1.82635066e-02, -1.47567061e-02,  9.40540146e-01,  5.60442521e-02,\n",
       "        3.98464715e-02,  4.84822468e-01, -4.98092010e-02,  5.39269796e-02,\n",
       "        1.23306293e-02, -4.23695249e-02, -3.27848188e-02,  1.89287657e-02,\n",
       "        3.73786367e-04,  1.02059212e+00,  2.82521405e-04,  4.81084472e-01,\n",
       "       -2.86286505e-03,  9.88191200e-01,  6.61598223e-01, -1.09239767e-02,\n",
       "       -2.41467116e-02, -7.35935321e-02, -2.15872923e-02,  2.79018649e-02,\n",
       "        6.77443609e-02,  2.31424591e-01,  4.87913369e-03,  7.95690120e-02,\n",
       "        4.51323510e-02,  9.32935283e-02,  1.04193889e-01,  1.49017494e-01,\n",
       "       -7.19472686e-02,  9.21476266e-02,  5.36345390e-03,  8.85712270e-02,\n",
       "       -1.30012485e-02, -3.72235886e-02, -1.76730502e-02,  7.14037747e-02,\n",
       "        1.36448519e-01,  8.52860076e-02,  6.39118664e-02, -9.48552634e-02,\n",
       "        2.09420566e-03,  6.11057515e-02,  4.91798352e-01, -2.36613204e-02,\n",
       "        3.96533550e-02,  9.52037505e-01,  2.33742028e-02,  9.67581900e-02,\n",
       "        1.27859610e-02,  1.00161390e+00, -7.33065579e-02,  5.04888229e-02,\n",
       "        1.15904536e-02,  1.34185927e-03,  9.05223387e-02, -4.89786822e-02,\n",
       "        1.01400668e-01,  6.68547545e-02,  5.13497279e-01,  9.93806574e-01,\n",
       "       -2.34630799e-02, -7.93347013e-02,  2.05919015e-01,  1.16575219e-01,\n",
       "       -4.48865782e-02, -5.07173712e-03,  7.67435613e-02,  1.17289117e-01,\n",
       "        1.47097785e-01,  4.77595161e-01,  9.80304374e-01,  5.09147921e-02,\n",
       "        1.33963380e-02,  1.86536311e-01,  1.01750729e+00,  7.70258090e-02])"
      ]
     },
     "execution_count": 25,
     "metadata": {},
     "output_type": "execute_result"
    }
   ],
   "source": [
    "lr.predict(x_test_scaled)"
   ]
  },
  {
   "cell_type": "code",
   "execution_count": null,
   "id": "86786a46-7368-4d19-a2a1-19480b49f1dc",
   "metadata": {},
   "outputs": [],
   "source": []
  },
  {
   "cell_type": "code",
   "execution_count": 24,
   "id": "c9aa542b-9254-4ef2-b30c-8538d4c1955f",
   "metadata": {},
   "outputs": [
    {
     "name": "stdout",
     "output_type": "stream",
     "text": [
      "75.820150198842 %\n"
     ]
    }
   ],
   "source": [
    "r2score = lr.score(x_test_scaled,y_test_transformed)\n",
    "print(r2score*100,'%')"
   ]
  },
  {
   "cell_type": "code",
   "execution_count": null,
   "id": "d7d401cf-3e23-4c8e-9485-cf84142c64eb",
   "metadata": {},
   "outputs": [],
   "source": []
  },
  {
   "cell_type": "code",
   "execution_count": null,
   "id": "555fa692-68c1-4a88-87eb-a41360637af0",
   "metadata": {},
   "outputs": [],
   "source": []
  }
 ],
 "metadata": {
  "kernelspec": {
   "display_name": "Python 3 (ipykernel)",
   "language": "python",
   "name": "python3"
  },
  "language_info": {
   "codemirror_mode": {
    "name": "ipython",
    "version": 3
   },
   "file_extension": ".py",
   "mimetype": "text/x-python",
   "name": "python",
   "nbconvert_exporter": "python",
   "pygments_lexer": "ipython3",
   "version": "3.12.1"
  }
 },
 "nbformat": 4,
 "nbformat_minor": 5
}
